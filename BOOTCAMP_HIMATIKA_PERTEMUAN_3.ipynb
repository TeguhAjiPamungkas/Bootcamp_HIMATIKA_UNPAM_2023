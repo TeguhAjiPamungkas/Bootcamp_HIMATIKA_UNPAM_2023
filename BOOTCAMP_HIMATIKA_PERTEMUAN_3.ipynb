{
  "nbformat": 4,
  "nbformat_minor": 0,
  "metadata": {
    "colab": {
      "provenance": [],
      "toc_visible": true
    },
    "kernelspec": {
      "name": "python3",
      "display_name": "Python 3"
    },
    "language_info": {
      "name": "python"
    }
  },
  "cells": [
    {
      "cell_type": "markdown",
      "source": [
        "# MODUL 2 PYTHON ~ CONTROL FLOW, FUNCTION DI PYTHON, STRING MANIPULATION, FILE HANDLING DI PYTHON"
      ],
      "metadata": {
        "id": "zPP_wkbrXWkh"
      }
    },
    {
      "cell_type": "markdown",
      "source": [
        "# CONTROL FLOW"
      ],
      "metadata": {
        "id": "hRwAeGPQksPC"
      }
    },
    {
      "cell_type": "markdown",
      "source": [
        "CONDITIONAL STATEMENTS"
      ],
      "metadata": {
        "id": "9dd8yGIxXoq9"
      }
    },
    {
      "cell_type": "code",
      "source": [
        "#CONDITIONAL STATEMENTS\n",
        "# IF-ELSE\n",
        "uang = int(input(\"Masukan Uang anda=\"))\n",
        "if uang==2300:\n",
        "  print(\"Saya akan membeli permen\") #disamping sintaks print ada spasi karena ini indentation\n",
        "else:\n",
        "  print(\"Saya tidak akan membeli permen\")"
      ],
      "metadata": {
        "id": "eVeS1bsw6hwr"
      },
      "execution_count": null,
      "outputs": []
    },
    {
      "cell_type": "code",
      "source": [
        "# IF-ELIF-ELSE\n",
        "print(\"memulai program\")\n",
        "nama = input(\"siapa nama kamu?\")\n",
        "if nama==\"Intan\":\n",
        "  print(\"Hai si kecee dan cantik\")\n",
        "elif nama==\"Halawa\":\n",
        "  print(\"Hai wanita pintarr\")\n",
        "elif nama==\"Riska\":\n",
        "  print(\"Pemateri bootcamp selanjutnya\")\n",
        "else:\n",
        "  print(\"AUU AHHH GAK KENALL\")\n",
        "\n",
        "print(\"Ini adalah akhir program\")"
      ],
      "metadata": {
        "colab": {
          "base_uri": "https://localhost:8080/"
        },
        "id": "7lRSlxCpX8tP",
        "outputId": "9c6333b6-a6e1-4bfe-b70e-121526a3ddc5"
      },
      "execution_count": null,
      "outputs": [
        {
          "output_type": "stream",
          "name": "stdout",
          "text": [
            "memulai program\n",
            "siapa nama kamu?Riska\n",
            "Pemateri bootcamp selanjutnya\n",
            "Ini adalah akhir program\n"
          ]
        }
      ]
    },
    {
      "cell_type": "markdown",
      "source": [
        "ITERATIVE STATEMENTS"
      ],
      "metadata": {
        "id": "ceiFELY_fhyb"
      }
    },
    {
      "cell_type": "code",
      "source": [
        "# Loop\n",
        "# membuat terlebih dahulu variabel yang kita inginkan\n",
        "# for kondisi:\n",
        "# aksi\n",
        "\n",
        "angka2 = [0, 1, 2, 3, 4]\n",
        "print(angka2)"
      ],
      "metadata": {
        "id": "-Mu0xnIlggAj"
      },
      "execution_count": null,
      "outputs": []
    },
    {
      "cell_type": "code",
      "source": [
        "angka2 = [2, 4, 6, 8, 10]\n",
        "for j in angka2:\n",
        "  print(f\"j sekarang -> {j}\")\n",
        "print(\"akhir dari program\")"
      ],
      "metadata": {
        "colab": {
          "base_uri": "https://localhost:8080/"
        },
        "id": "Bvior0P4a7tY",
        "outputId": "d5b75565-9e3c-4de1-f9c3-9ad9239f6fcf"
      },
      "execution_count": null,
      "outputs": [
        {
          "output_type": "stream",
          "name": "stdout",
          "text": [
            "j sekarang -> 2\n",
            "j sekarang -> 4\n",
            "j sekarang -> 6\n",
            "j sekarang -> 8\n",
            "j sekarang -> 10\n",
            "akhir dari program\n"
          ]
        }
      ]
    },
    {
      "cell_type": "code",
      "source": [
        "angka2_range = range(5)\n",
        "for i in angka2_range:\n",
        "  print(f\"i sekarang -> {i}\")\n",
        "print(\"akhir dari program\")"
      ],
      "metadata": {
        "colab": {
          "base_uri": "https://localhost:8080/"
        },
        "id": "7xuMeMkGebtq",
        "outputId": "fcb25ebf-3bc4-4f94-d566-455cbc9f134a"
      },
      "execution_count": null,
      "outputs": [
        {
          "output_type": "stream",
          "name": "stdout",
          "text": [
            "i sekarang -> 0\n",
            "i sekarang -> 1\n",
            "i sekarang -> 2\n",
            "i sekarang -> 3\n",
            "i sekarang -> 4\n",
            "akhir dari program\n"
          ]
        }
      ]
    },
    {
      "cell_type": "code",
      "source": [
        "data_str = \"Intan Idaman Halawa\"\n",
        "for huruf in data_str:\n",
        "  print(huruf)\n",
        "print(\"akhir dari program\")"
      ],
      "metadata": {
        "id": "xNsCeQa4dcRK",
        "colab": {
          "base_uri": "https://localhost:8080/"
        },
        "outputId": "f0571a0c-4c4e-4bad-c955-b1f3761faa1b"
      },
      "execution_count": null,
      "outputs": [
        {
          "output_type": "stream",
          "name": "stdout",
          "text": [
            "I\n",
            "n\n",
            "t\n",
            "a\n",
            "n\n",
            " \n",
            "I\n",
            "d\n",
            "a\n",
            "m\n",
            "a\n",
            "n\n",
            " \n",
            "H\n",
            "a\n",
            "l\n",
            "a\n",
            "w\n",
            "a\n",
            "akhir dari program\n"
          ]
        }
      ]
    },
    {
      "cell_type": "code",
      "source": [
        "# While loop\n",
        "\n",
        "# membuat variabel yang kita inginkan\n",
        "# while kondisi:\n",
        "# aksi ini\n",
        "# aksi itu\n",
        "\n",
        "# akhir dari program\n",
        "\n",
        "angka = 4\n",
        "while angka>5:\n",
        "  print(\"kamu\")\n",
        "\n",
        "print(\"cukuppp\")"
      ],
      "metadata": {
        "colab": {
          "base_uri": "https://localhost:8080/"
        },
        "id": "3RwUh917g8OL",
        "outputId": "d864250f-9398-4c6b-83b2-28b8c5e74498"
      },
      "execution_count": null,
      "outputs": [
        {
          "output_type": "stream",
          "name": "stdout",
          "text": [
            "cukuppp\n"
          ]
        }
      ]
    },
    {
      "cell_type": "markdown",
      "source": [
        "# FUNCTION DI PYTHON"
      ],
      "metadata": {
        "id": "I7TMZFIiYgoE"
      }
    },
    {
      "cell_type": "markdown",
      "source": [
        "USER DEFINED FUNCTION"
      ],
      "metadata": {
        "id": "22RAkpYYYm1d"
      }
    },
    {
      "cell_type": "code",
      "source": [
        "num1 = 2\n",
        "num2 = 5\n",
        "x = num1+num2\n",
        "print(x)"
      ],
      "metadata": {
        "colab": {
          "base_uri": "https://localhost:8080/"
        },
        "id": "jXhtvdwW09Cu",
        "outputId": "3dd8560b-be2e-4d94-c878-40e4db1882ab"
      },
      "execution_count": null,
      "outputs": [
        {
          "output_type": "stream",
          "name": "stdout",
          "text": [
            "7\n"
          ]
        }
      ]
    },
    {
      "cell_type": "code",
      "source": [
        "def my_function(num1,num2):\n",
        "  output = num1 + num2\n",
        "  return output"
      ],
      "metadata": {
        "id": "qayLhKzwr3O6"
      },
      "execution_count": null,
      "outputs": []
    },
    {
      "cell_type": "code",
      "source": [
        "my_function(num1 = 4, num2 = 4)"
      ],
      "metadata": {
        "colab": {
          "base_uri": "https://localhost:8080/"
        },
        "id": "bWckKh9UtNSm",
        "outputId": "ae81a83c-f757-4900-a736-5fac3a2aacb9"
      },
      "execution_count": null,
      "outputs": [
        {
          "output_type": "execute_result",
          "data": {
            "text/plain": [
              "8"
            ]
          },
          "metadata": {},
          "execution_count": 28
        }
      ]
    },
    {
      "cell_type": "code",
      "source": [
        "def my_function(num1,num2):\n",
        "  y = 2\n",
        "  x = 5\n",
        "  print(f\"value of x is {x}\")\n",
        "  print(f\"value of y is {y}\")\n",
        "  num3 = num1 + num2 + x\n",
        "  num4 = num1 + num2 + y\n",
        "  return num3, num4"
      ],
      "metadata": {
        "id": "T-MzrPbXuhRN"
      },
      "execution_count": null,
      "outputs": []
    },
    {
      "cell_type": "code",
      "source": [
        "my_function(5, 4)"
      ],
      "metadata": {
        "colab": {
          "base_uri": "https://localhost:8080/"
        },
        "id": "gnWSscz7v8IR",
        "outputId": "d2877fcb-5ba0-4938-db0e-3880f8af4cdd"
      },
      "execution_count": null,
      "outputs": [
        {
          "output_type": "stream",
          "name": "stdout",
          "text": [
            "value of x is 5\n",
            "value of y is 2\n"
          ]
        },
        {
          "output_type": "execute_result",
          "data": {
            "text/plain": [
              "(14, 11)"
            ]
          },
          "metadata": {},
          "execution_count": 40
        }
      ]
    },
    {
      "cell_type": "code",
      "source": [
        "print(y) # karena y bukan fungsi yang dibuat"
      ],
      "metadata": {
        "colab": {
          "base_uri": "https://localhost:8080/",
          "height": 169
        },
        "id": "aDywoeGlwGjc",
        "outputId": "f8c4d324-5537-48f5-9f8a-f3b009299f33"
      },
      "execution_count": null,
      "outputs": [
        {
          "output_type": "error",
          "ename": "NameError",
          "evalue": "ignored",
          "traceback": [
            "\u001b[0;31m---------------------------------------------------------------------------\u001b[0m",
            "\u001b[0;31mNameError\u001b[0m                                 Traceback (most recent call last)",
            "\u001b[0;32m<ipython-input-42-e706e9cc0b6f>\u001b[0m in \u001b[0;36m<cell line: 1>\u001b[0;34m()\u001b[0m\n\u001b[0;32m----> 1\u001b[0;31m \u001b[0mprint\u001b[0m\u001b[0;34m(\u001b[0m\u001b[0my\u001b[0m\u001b[0;34m)\u001b[0m \u001b[0;31m# karena y bukan fungsi yang dibuat\u001b[0m\u001b[0;34m\u001b[0m\u001b[0;34m\u001b[0m\u001b[0m\n\u001b[0m",
            "\u001b[0;31mNameError\u001b[0m: name 'y' is not defined"
          ]
        }
      ]
    },
    {
      "cell_type": "markdown",
      "source": [
        "BUILT-IN FUNCTION"
      ],
      "metadata": {
        "id": "omVmT8ugYsRZ"
      }
    },
    {
      "cell_type": "code",
      "source": [
        "mylist = [8,7,6,2,4,9,3]\n",
        "print(\"mylist is\",mylist)\n",
        "print(\"type of mylist is\", type(mylist))\n",
        "print(\"lenght of mylist is\", len(mylist))"
      ],
      "metadata": {
        "id": "mlxqZiubY3SU",
        "colab": {
          "base_uri": "https://localhost:8080/"
        },
        "outputId": "82c5f36d-70f1-4cf8-e1be-6645ea32a7b9"
      },
      "execution_count": null,
      "outputs": [
        {
          "output_type": "stream",
          "name": "stdout",
          "text": [
            "mylist is [8, 7, 6, 2, 4, 9, 3]\n",
            "type of mylist is <class 'list'>\n",
            "lenght of mylist is 7\n"
          ]
        }
      ]
    },
    {
      "cell_type": "code",
      "source": [
        "print(\"sum of all values\", sum(mylist))\n",
        "print(\"minimum value\", min(mylist))\n",
        "print(\"maximum value\", max(mylist))\n",
        "print(\"sorted list\", sorted(mylist))"
      ],
      "metadata": {
        "colab": {
          "base_uri": "https://localhost:8080/"
        },
        "id": "h-GhkrxjysEY",
        "outputId": "7f8ed39c-71b6-47d3-995b-db1a484619ab"
      },
      "execution_count": null,
      "outputs": [
        {
          "output_type": "stream",
          "name": "stdout",
          "text": [
            "sum of all values 39\n",
            "minimum value 2\n",
            "maximum value 9\n",
            "sorted list [2, 3, 4, 6, 7, 8, 9]\n"
          ]
        }
      ]
    },
    {
      "cell_type": "markdown",
      "source": [
        "# STRING MANIPULATION"
      ],
      "metadata": {
        "id": "4Kxarly7Y34Q"
      }
    },
    {
      "cell_type": "code",
      "source": [
        "# python string operations\n",
        "str1 = 'Hello'\n",
        "str2 = 'World!'\n",
        "\n",
        "# using +\n",
        "print('str1+str2=', str1+str2)\n",
        "\n",
        "# using *\n",
        "print('str1*3=', str1*3)"
      ],
      "metadata": {
        "colab": {
          "base_uri": "https://localhost:8080/"
        },
        "id": "PcagU__ezr76",
        "outputId": "cc926423-90fd-4103-a226-a08b360bf718"
      },
      "execution_count": null,
      "outputs": [
        {
          "output_type": "stream",
          "name": "stdout",
          "text": [
            "str1+str2= HelloWorld!\n",
            "str1*3= HelloHelloHello\n"
          ]
        }
      ]
    },
    {
      "cell_type": "code",
      "source": [
        "str3 = \"Hello world from python\"\n",
        "\n",
        "# using \"in\"\n",
        "print(\"world\" in str3)\n",
        "\n",
        "# using \"not in\"\n",
        "print(\"Hello\" not in str3)"
      ],
      "metadata": {
        "colab": {
          "base_uri": "https://localhost:8080/"
        },
        "id": "9LJWlidn0rdP",
        "outputId": "ed897aec-29fe-4329-c113-6bd319e421fd"
      },
      "execution_count": null,
      "outputs": [
        {
          "output_type": "stream",
          "name": "stdout",
          "text": [
            "True\n",
            "False\n"
          ]
        }
      ]
    },
    {
      "cell_type": "markdown",
      "source": [
        "STRING MANIPULATION MENGGUNAKAN BUILT-IN METHODE"
      ],
      "metadata": {
        "id": "-9liOzQ6rnk1"
      }
    },
    {
      "cell_type": "code",
      "source": [
        "# Common string methode\n",
        "x = \"Hello world from PYTHON\"\n",
        "print(x.upper())\n",
        "print(x.lower())\n",
        "print(x.split(\" \"))\n",
        "print(\"wold found in x\", x.find(\"world\"))\n",
        "print(x.replace(\"World\", \"Earth\"))"
      ],
      "metadata": {
        "colab": {
          "base_uri": "https://localhost:8080/"
        },
        "id": "KrbJMX39r0G1",
        "outputId": "d4db1968-f069-4559-8d83-581c2ebd28eb"
      },
      "execution_count": null,
      "outputs": [
        {
          "output_type": "stream",
          "name": "stdout",
          "text": [
            "HELLO WORLD FROM PYTHON\n",
            "hello world from python\n",
            "['Hello', 'world', 'from', 'PYTHON']\n",
            "wold found in x 6\n",
            "Hello world from PYTHON\n"
          ]
        }
      ]
    },
    {
      "cell_type": "markdown",
      "source": [
        "# FILE HANDLING DI PYTHON"
      ],
      "metadata": {
        "id": "5qTZ4H45ZIet"
      }
    },
    {
      "cell_type": "markdown",
      "source": [
        "MENULIS DATA DI FILE BARU"
      ],
      "metadata": {
        "id": "KlMcE3DXvfbj"
      }
    },
    {
      "cell_type": "code",
      "source": [
        "# open myfile.txt in write mode\n",
        "# this will create a new file if no such file exist\n",
        "\n",
        "file_pointer = open(\"myfile.txt\", \"w\")\n",
        "\n",
        "# writing the content to the file\n",
        "file_pointer.write('''Python is easy, powerful and simple. It is the fastest-growing programming language''')\n",
        "\n",
        "# closing the opened the file\n",
        "file_pointer.close()"
      ],
      "metadata": {
        "id": "Z-cjgZ2Itnfo"
      },
      "execution_count": null,
      "outputs": []
    },
    {
      "cell_type": "markdown",
      "source": [
        "MENAMBAHKAN DATA DI FILE"
      ],
      "metadata": {
        "id": "M6jKw4bIvnja"
      }
    },
    {
      "cell_type": "code",
      "source": [
        "# open the myfile.txt in append mode\n",
        "file_pointer = open(\"myfile.txt\", \"a\")\n",
        "\n",
        "# appending the content to the file\n",
        "file_pointer.write(\"python has an easy syntax and user-friendly interaction.\")\n",
        "\n",
        "# closing the opened the file\n",
        "file_pointer.close()"
      ],
      "metadata": {
        "id": "a9vFUgc8v0dx"
      },
      "execution_count": null,
      "outputs": []
    },
    {
      "cell_type": "markdown",
      "source": [
        "MEMBACA DATA DARI SEBUAH FILE"
      ],
      "metadata": {
        "id": "p91AGsBOxCT4"
      }
    },
    {
      "cell_type": "code",
      "source": [
        "# open the myfile.txt in read mode\n",
        "# it will cause error, if no such file exist\n",
        "# closing the opened the file\n",
        "file_pointer = open(\"myfile.txt\", \"r\")\n",
        "\n",
        "# reading content the file\n",
        "data = file_pointer.read()\n",
        "print(type(data))\n",
        "print(data)\n",
        "\n",
        "# the opened the file\n",
        "file_pointer.close()"
      ],
      "metadata": {
        "colab": {
          "base_uri": "https://localhost:8080/"
        },
        "id": "ExocPQzhxGEh",
        "outputId": "c3b4483e-679e-4441-ccd8-3936578f2f2e"
      },
      "execution_count": null,
      "outputs": [
        {
          "output_type": "stream",
          "name": "stdout",
          "text": [
            "<class 'str'>\n",
            "Python is easy, powerful and simple. It is the fastest-growing programming languagepython has an easy syntax and user-friendly interaction.\n"
          ]
        }
      ]
    }
  ]
}