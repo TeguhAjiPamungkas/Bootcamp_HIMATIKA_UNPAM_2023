{
  "nbformat": 4,
  "nbformat_minor": 0,
  "metadata": {
    "colab": {
      "provenance": [],
      "toc_visible": true
    },
    "kernelspec": {
      "name": "python3",
      "display_name": "Python 3"
    },
    "language_info": {
      "name": "python"
    }
  },
  "cells": [
    {
      "cell_type": "markdown",
      "source": [
        "# MODUL 1 PYTHON ~ INTRODUCTION, DATA TYPE, AND OPERATORS"
      ],
      "metadata": {
        "id": "KH8eWLe75zTX"
      }
    },
    {
      "cell_type": "markdown",
      "source": [
        "# Pengenalan Bahasa Pemrograman Python"
      ],
      "metadata": {
        "id": "rN4NxkZy8FX_"
      }
    },
    {
      "cell_type": "code",
      "source": [
        "print(\"Selamat\")\n",
        "print(\"Pagi\")\n",
        "\n",
        "print(\"Selamat Pagi\")"
      ],
      "metadata": {
        "id": "Kr5p5xCY8PHS"
      },
      "execution_count": null,
      "outputs": []
    },
    {
      "cell_type": "markdown",
      "source": [
        "# Dasar Pemrograman Python"
      ],
      "metadata": {
        "id": "ETwITnzt8ubD"
      }
    },
    {
      "cell_type": "markdown",
      "source": [
        "**1**. **Tanda # ini digunakan untuk komentar satu baris, kode yang ditulis setelah tanda # diabaikan atau tidak dijalankan oleh python interpreter**\n",
        "\n",
        "**2. Tanda titik koma (;) memungkinkan beberapa pernyataan pada satu baris**\n",
        "\n",
        "**3**. **Tanda** **tunggal** **(')**, **tanda** **ganda('') menunjukkan** **string**"
      ],
      "metadata": {
        "id": "TVAArFcaDhWN"
      }
    },
    {
      "cell_type": "code",
      "source": [
        "print(\"Hello World\") #code untuk menampilkan kata"
      ],
      "metadata": {
        "colab": {
          "base_uri": "https://localhost:8080/"
        },
        "id": "QjPVoNjQEii1",
        "outputId": "467fcb05-c82c-424d-84f6-24b363fb5443"
      },
      "execution_count": null,
      "outputs": [
        {
          "output_type": "stream",
          "name": "stdout",
          "text": [
            "Hello World\n"
          ]
        }
      ]
    },
    {
      "cell_type": "code",
      "source": [
        "print(\"python is easy\");x=5;print(x+6+5)"
      ],
      "metadata": {
        "colab": {
          "base_uri": "https://localhost:8080/"
        },
        "id": "hxXaS0a6E2IH",
        "outputId": "2875598e-3c66-41d9-e8f9-fdd2f112cb50"
      },
      "execution_count": null,
      "outputs": [
        {
          "output_type": "stream",
          "name": "stdout",
          "text": [
            "python is easy\n",
            "16\n"
          ]
        }
      ]
    },
    {
      "cell_type": "markdown",
      "source": [
        "Variabel adalah lokasi memori yang dicadangkan untuk menyimpan nilai"
      ],
      "metadata": {
        "id": "Qrj6JAj9FWem"
      }
    },
    {
      "cell_type": "code",
      "source": [
        "cars=50 # Bilangan Bulat\n",
        "miles=43.6 # Bilangan Desimal\n",
        "name=\"carry\" # teks\n",
        "\n",
        "print(cars)\n",
        "print(miles)\n",
        "print(name)"
      ],
      "metadata": {
        "id": "5ZQbhOhKFhX2",
        "colab": {
          "base_uri": "https://localhost:8080/"
        },
        "outputId": "dabcc5ee-34ff-48a9-e41c-47a760ff002a"
      },
      "execution_count": null,
      "outputs": [
        {
          "output_type": "stream",
          "name": "stdout",
          "text": [
            "50\n",
            "43.6\n",
            "carry\n"
          ]
        }
      ]
    },
    {
      "cell_type": "code",
      "source": [],
      "metadata": {
        "id": "D6bbjI7-ATtr"
      },
      "execution_count": null,
      "outputs": []
    },
    {
      "cell_type": "markdown",
      "source": [
        "# Struktur Data di Python"
      ],
      "metadata": {
        "id": "9BqPPkzVEymP"
      }
    },
    {
      "cell_type": "markdown",
      "source": [
        "Tipe Data Primitif"
      ],
      "metadata": {
        "id": "I6QCq2YCFEMy"
      }
    },
    {
      "cell_type": "code",
      "source": [
        "# Integer\n",
        "x = 5\n",
        "print(x);print(type(x))"
      ],
      "metadata": {
        "id": "9U1MfdCRFJTa",
        "colab": {
          "base_uri": "https://localhost:8080/"
        },
        "outputId": "138dd9eb-f888-4f47-db83-cc9f98e31ab7"
      },
      "execution_count": null,
      "outputs": [
        {
          "output_type": "stream",
          "name": "stdout",
          "text": [
            "5\n",
            "<class 'int'>\n"
          ]
        }
      ]
    },
    {
      "cell_type": "code",
      "source": [
        "# Float\n",
        "y = 2,5\n",
        "print(y);print(type(y))"
      ],
      "metadata": {
        "id": "YekiqtwRUHR9",
        "colab": {
          "base_uri": "https://localhost:8080/"
        },
        "outputId": "153d2741-453e-4761-c26d-ee67096854e6"
      },
      "execution_count": null,
      "outputs": [
        {
          "output_type": "stream",
          "name": "stdout",
          "text": [
            "(2, 5)\n",
            "<class 'tuple'>\n"
          ]
        }
      ]
    },
    {
      "cell_type": "code",
      "source": [
        "# Complex\n",
        "m = 5 + 8j\n",
        "print(m);print(type(m))"
      ],
      "metadata": {
        "id": "PYq_CetJUJBe",
        "colab": {
          "base_uri": "https://localhost:8080/"
        },
        "outputId": "7baeb351-3f7e-435f-acba-90d30ed1a360"
      },
      "execution_count": null,
      "outputs": [
        {
          "output_type": "stream",
          "name": "stdout",
          "text": [
            "(5+8j)\n",
            "<class 'complex'>\n"
          ]
        }
      ]
    },
    {
      "cell_type": "code",
      "source": [
        "# String\n",
        "k = \"Hallo Selamat Pagi\"\n",
        "print(k);print(type(k))"
      ],
      "metadata": {
        "id": "WfSFPURSUVqw",
        "colab": {
          "base_uri": "https://localhost:8080/"
        },
        "outputId": "c3adc864-7064-4b8a-93c9-f29a1f6cf584"
      },
      "execution_count": null,
      "outputs": [
        {
          "output_type": "stream",
          "name": "stdout",
          "text": [
            "Hallo Selamat Pagi\n",
            "<class 'str'>\n"
          ]
        }
      ]
    },
    {
      "cell_type": "code",
      "source": [
        "# Boolean\n",
        "m = True\n",
        "n = False\n",
        "print(m);type(m)\n",
        "print(n);type(n)"
      ],
      "metadata": {
        "id": "QYdlQtzdUeSD",
        "colab": {
          "base_uri": "https://localhost:8080/"
        },
        "outputId": "66fc6f75-0a86-4b80-8688-9a29f0b2f16b"
      },
      "execution_count": null,
      "outputs": [
        {
          "output_type": "stream",
          "name": "stdout",
          "text": [
            "True\n",
            "False\n"
          ]
        },
        {
          "output_type": "execute_result",
          "data": {
            "text/plain": [
              "bool"
            ]
          },
          "metadata": {},
          "execution_count": 14
        }
      ]
    },
    {
      "cell_type": "code",
      "source": [
        "M = 5\n",
        "N = 3\n",
        "A = M<N\n",
        "print(A)"
      ],
      "metadata": {
        "colab": {
          "base_uri": "https://localhost:8080/"
        },
        "id": "-lCLcPV6wkug",
        "outputId": "ce9c0a04-6e37-4b57-b6b2-60447964e669"
      },
      "execution_count": null,
      "outputs": [
        {
          "output_type": "stream",
          "name": "stdout",
          "text": [
            "False\n"
          ]
        }
      ]
    },
    {
      "cell_type": "markdown",
      "source": [
        "Tipe Data String"
      ],
      "metadata": {
        "id": "s7KGKybLULPP"
      }
    },
    {
      "cell_type": "code",
      "source": [
        "string = \"Data Science !\"\n",
        "print(string)\n",
        "print(string[0])\n",
        "print(string[2:5])\n",
        "print(string[2:])\n",
        "print(string * 2)\n",
        "print(string + \"Foundation\")"
      ],
      "metadata": {
        "id": "YX63M2NgUQwz",
        "colab": {
          "base_uri": "https://localhost:8080/"
        },
        "outputId": "c6436bb7-518e-44a3-9860-462f3b7b5a57"
      },
      "execution_count": null,
      "outputs": [
        {
          "output_type": "stream",
          "name": "stdout",
          "text": [
            "Data Science !\n",
            "D\n",
            "ta \n",
            "ta Science !\n",
            "Data Science !Data Science !\n",
            "Data Science !Foundation\n"
          ]
        }
      ]
    },
    {
      "cell_type": "markdown",
      "source": [
        "Tipe Data Nonprimitif"
      ],
      "metadata": {
        "id": "wusrwGXfaFG7"
      }
    },
    {
      "cell_type": "code",
      "source": [
        "# Tipe Data List\n",
        "mylist = ['abcd', 786, 2.23, 'john', 70.2]\n",
        "tinylist = [123, 'john']\n",
        "\n",
        "print(mylist)\n",
        "print(type(mylist))\n",
        "print(len(mylist))\n",
        "print(len(tinylist))"
      ],
      "metadata": {
        "colab": {
          "base_uri": "https://localhost:8080/"
        },
        "id": "Fj2f46rnaKNq",
        "outputId": "d1d42360-8f19-4a45-a0f3-ac91148df6ef"
      },
      "execution_count": null,
      "outputs": [
        {
          "output_type": "stream",
          "name": "stdout",
          "text": [
            "['abcd', 786, 2.23, 'john', 70.2]\n",
            "<class 'list'>\n",
            "5\n",
            "2\n"
          ]
        }
      ]
    },
    {
      "cell_type": "code",
      "source": [
        "# Tipe Data List bagian 2\n",
        "mylist = ['abcd', 786, 2.23, 'john', 70.2]\n",
        "tinylist = [123, 'john']\n",
        "\n",
        "print(mylist[0])\n",
        "print(mylist[1:3])\n",
        "print(mylist[2:])"
      ],
      "metadata": {
        "id": "1zQ0MFFjbGSB",
        "colab": {
          "base_uri": "https://localhost:8080/"
        },
        "outputId": "76ffe483-7a56-4811-ba73-d24bc779d9db"
      },
      "execution_count": null,
      "outputs": [
        {
          "output_type": "stream",
          "name": "stdout",
          "text": [
            "abcd\n",
            "[786, 2.23]\n",
            "[2.23, 'john', 70.2]\n"
          ]
        }
      ]
    },
    {
      "cell_type": "code",
      "source": [
        "# Tipe Data List bagian 3\n",
        "mylist = ['abcd', 786, 2.23, 'john', 70.2]\n",
        "tinylist = [123, 'john']\n",
        "print(tinylist * 2)\n",
        "print(mylist + tinylist)"
      ],
      "metadata": {
        "id": "l_uOCJMCc_18",
        "colab": {
          "base_uri": "https://localhost:8080/"
        },
        "outputId": "cc6872b0-3222-4430-cc73-14647b8838c3"
      },
      "execution_count": null,
      "outputs": [
        {
          "output_type": "stream",
          "name": "stdout",
          "text": [
            "[123, 'john', 123, 'john']\n",
            "['abcd', 786, 2.23, 'john', 70.2, 123, 'john']\n"
          ]
        }
      ]
    },
    {
      "cell_type": "code",
      "source": [
        "mylist = ['jennie', 804, 16.4, 'kai', 'exo']\n",
        "tinylist = ['bts', 908, 34.5]\n",
        "print(mylist * 5)\n",
        "print(mylist + tinylist)"
      ],
      "metadata": {
        "colab": {
          "base_uri": "https://localhost:8080/"
        },
        "id": "fs5foqUbGt9b",
        "outputId": "b89957f3-d355-4b4a-bb81-2389a982f02e"
      },
      "execution_count": null,
      "outputs": [
        {
          "output_type": "stream",
          "name": "stdout",
          "text": [
            "['jennie', 804, 16.4, 'kai', 'exo', 'jennie', 804, 16.4, 'kai', 'exo', 'jennie', 804, 16.4, 'kai', 'exo', 'jennie', 804, 16.4, 'kai', 'exo', 'jennie', 804, 16.4, 'kai', 'exo']\n",
            "['jennie', 804, 16.4, 'kai', 'exo', 'bts', 908, 34.5]\n"
          ]
        }
      ]
    },
    {
      "cell_type": "code",
      "source": [
        "# Methods pada List\n",
        "mylist = ['abcd', 786, 2.23, 'john', 70.2]\n",
        "tinylist = [123, 'john']\n",
        "\n",
        "print(mylist)\n",
        "mylist.append('wiley')\n",
        "print(mylist)"
      ],
      "metadata": {
        "colab": {
          "base_uri": "https://localhost:8080/"
        },
        "id": "WDLx8zovdaQg",
        "outputId": "3b3290ff-0a69-4b09-9dd0-248ce97730ba"
      },
      "execution_count": null,
      "outputs": [
        {
          "output_type": "stream",
          "name": "stdout",
          "text": [
            "['abcd', 786, 2.23, 'john', 70.2]\n",
            "['abcd', 786, 2.23, 'john', 70.2, 'wiley']\n"
          ]
        }
      ]
    },
    {
      "cell_type": "code",
      "source": [
        "mylist = ['abcd', 786, 2.23, 'john', 70.2]\n",
        "tinylist = [123, 'john']\n",
        "\n",
        "print(mylist)\n",
        "mylist.insert(2,'python')\n",
        "print(mylist)"
      ],
      "metadata": {
        "id": "Xniau72efGd8",
        "colab": {
          "base_uri": "https://localhost:8080/"
        },
        "outputId": "daff58a2-7950-4488-85b9-36834d87b8a7"
      },
      "execution_count": null,
      "outputs": [
        {
          "output_type": "stream",
          "name": "stdout",
          "text": [
            "['abcd', 786, 2.23, 'john', 70.2]\n",
            "['abcd', 786, 'python', 2.23, 'john', 70.2]\n"
          ]
        }
      ]
    },
    {
      "cell_type": "code",
      "source": [
        "mylist = ['abcd', 786, 2.23, 'john', 70.2]\n",
        "tinylist = [123, 'john']\n",
        "\n",
        "print(mylist)\n",
        "mylist.remove(786)\n",
        "print(mylist)"
      ],
      "metadata": {
        "colab": {
          "base_uri": "https://localhost:8080/"
        },
        "id": "Ti6INbzzANhy",
        "outputId": "8aaa17a7-d6c9-4b89-a71e-7a2bf9e43a57"
      },
      "execution_count": null,
      "outputs": [
        {
          "output_type": "stream",
          "name": "stdout",
          "text": [
            "['abcd', 786, 2.23, 'john', 70.2]\n",
            "['abcd', 2.23, 'john', 70.2]\n"
          ]
        }
      ]
    },
    {
      "cell_type": "code",
      "source": [
        "mylist = ['abcd', 786, 2.23, 'john', 70.2]\n",
        "tinylist = [123, 'john']\n",
        "\n",
        "print(mylist)\n",
        "(mylist.pop(3))\n",
        "print(mylist)"
      ],
      "metadata": {
        "colab": {
          "base_uri": "https://localhost:8080/"
        },
        "id": "ywDFqKLxAdzm",
        "outputId": "02f5dfdb-f600-4e5c-933f-bc128a80baa4"
      },
      "execution_count": null,
      "outputs": [
        {
          "output_type": "stream",
          "name": "stdout",
          "text": [
            "['abcd', 786, 2.23, 'john', 70.2]\n",
            "['abcd', 786, 2.23, 70.2]\n"
          ]
        }
      ]
    },
    {
      "cell_type": "code",
      "source": [
        "mylist = ['abcd', 786, 2.23, 'john', 70.2]\n",
        "tinylist = [123, 'john']\n",
        "print(len(mylist))\n",
        "print(mylist)\n",
        "mylist.extend(tinylist)\n",
        "print(mylist)"
      ],
      "metadata": {
        "colab": {
          "base_uri": "https://localhost:8080/"
        },
        "id": "idzdfKQYCeF7",
        "outputId": "701e166d-1f92-4d46-f433-89737d543405"
      },
      "execution_count": null,
      "outputs": [
        {
          "output_type": "stream",
          "name": "stdout",
          "text": [
            "5\n",
            "['abcd', 786, 2.23, 'john', 70.2]\n",
            "['abcd', 786, 2.23, 'john', 70.2, 123, 'john']\n"
          ]
        }
      ]
    },
    {
      "cell_type": "code",
      "source": [
        "# Tipe Data Tuple\n",
        "tuple_items = ('cars',786,2.23,'toyota',70.2)\n",
        "tinytuple = (123, 'camry')\n",
        "\n",
        "print(tuple_items)\n",
        "print(tuple_items[0])\n",
        "print(tuple_items[1:3])\n",
        "print(tuple_items[2:])"
      ],
      "metadata": {
        "colab": {
          "base_uri": "https://localhost:8080/"
        },
        "id": "SuLyrfZ9C-oQ",
        "outputId": "e718a249-bb46-419c-d569-2c978e4822f0"
      },
      "execution_count": null,
      "outputs": [
        {
          "output_type": "stream",
          "name": "stdout",
          "text": [
            "('cars', 786, 2.23, 'toyota', 70.2)\n",
            "cars\n",
            "(786, 2.23)\n",
            "(2.23, 'toyota', 70.2)\n"
          ]
        }
      ]
    },
    {
      "cell_type": "code",
      "source": [
        "tuple_items = ('cars',786,2.23,'toyota',70.2)\n",
        "tinytuple = (123, 'camry')\n",
        "print(tinytuple*2)\n",
        "print(tuple_items+tinytuple)"
      ],
      "metadata": {
        "colab": {
          "base_uri": "https://localhost:8080/"
        },
        "id": "4bkFK6uTFDGZ",
        "outputId": "69cdbd29-66df-4805-ff82-7a8f8beb12f4"
      },
      "execution_count": null,
      "outputs": [
        {
          "output_type": "stream",
          "name": "stdout",
          "text": [
            "(123, 'camry', 123, 'camry')\n",
            "('cars', 786, 2.23, 'toyota', 70.2, 123, 'camry')\n"
          ]
        }
      ]
    },
    {
      "cell_type": "code",
      "source": [
        "# Tipe Data Dictionary\n",
        "dict = {}\n",
        "dict['one'] = \"This is one\"\n",
        "dict[2] = \"This is two\"\n",
        "\n",
        "tinydict = {'name':'john','code':6734, 'dept':'sales'}\n",
        "\n",
        "print(dict['one'])\n",
        "print(dict[2])\n",
        "print(tinydict)\n",
        "print(tinydict.keys())\n",
        "print(tinydict.values())"
      ],
      "metadata": {
        "colab": {
          "base_uri": "https://localhost:8080/"
        },
        "id": "YMM8zoceFiUf",
        "outputId": "1403fb23-2bab-422b-983e-f4361c88389e"
      },
      "execution_count": null,
      "outputs": [
        {
          "output_type": "stream",
          "name": "stdout",
          "text": [
            "This is one\n",
            "This is two\n",
            "{'name': 'john', 'code': 6734, 'dept': 'sales'}\n",
            "dict_keys(['name', 'code', 'dept'])\n",
            "dict_values(['john', 6734, 'sales'])\n"
          ]
        }
      ]
    },
    {
      "cell_type": "code",
      "source": [
        "dict = {}\n",
        "dict['SVT'] = \"This is SVT\"\n",
        "dict['Dream'] = \"This is NCT Dream\"\n",
        "\n",
        "tinydict = {'name':'Nadya', 'age':20, 'Occupation':'Student'}\n",
        "print(dict['SVT'])\n",
        "print(dict['Dream'])\n",
        "print(tinydict)\n",
        "print(tinydict.keys())\n",
        "print(tinydict.values())"
      ],
      "metadata": {
        "colab": {
          "base_uri": "https://localhost:8080/"
        },
        "id": "M3Kn_emPMWz2",
        "outputId": "7579cee6-e28d-4ab1-ca93-deea83271205"
      },
      "execution_count": null,
      "outputs": [
        {
          "output_type": "stream",
          "name": "stdout",
          "text": [
            "This is SVT\n",
            "This is NCT Dream\n",
            "{'name': 'Nadya', 'age': 20, 'Occupation': 'Student'}\n",
            "dict_keys(['name', 'age', 'Occupation'])\n",
            "dict_values(['Nadya', 20, 'Student'])\n"
          ]
        }
      ]
    },
    {
      "cell_type": "code",
      "source": [
        "mylist = {''}"
      ],
      "metadata": {
        "id": "sK099lTGK2bP"
      },
      "execution_count": null,
      "outputs": []
    },
    {
      "cell_type": "code",
      "source": [
        "# Tipe Data Set\n",
        "setA = {2,4,5,6,5,6,5,4}\n",
        "setB = {1,2,4,8,8}\n",
        "\n",
        "print(setA, type(setA))\n",
        "print(len(setA))\n",
        "setA.add(9) ; print(setA)\n",
        "print(setA.union(setB))\n",
        "print(setA.intersection(setB))"
      ],
      "metadata": {
        "id": "1WEDK35pHPaI",
        "colab": {
          "base_uri": "https://localhost:8080/"
        },
        "outputId": "cb7fc1c8-f0e5-4896-e9be-7cf3e0c2e45b"
      },
      "execution_count": null,
      "outputs": [
        {
          "output_type": "stream",
          "name": "stdout",
          "text": [
            "{2, 4, 5, 6} <class 'set'>\n",
            "4\n",
            "{2, 4, 5, 6, 9}\n",
            "{1, 2, 4, 5, 6, 8, 9}\n",
            "{2, 4}\n"
          ]
        }
      ]
    },
    {
      "cell_type": "code",
      "source": [
        "# Contoh Penerapan Konversi Tipe Data Primitif\n",
        "x = 2.5; print(x, type(x), end=\" >>> \")\n",
        "y = int(x) ; print(y,type(y))\n",
        "\n",
        "x = 1; print(x, type(x), end=\" >>> \")\n",
        "y = bool(x) ; print(y,type(y))\n",
        "\n",
        "x = \"124\"; print(x, type(x), end=\" >>> \")\n",
        "y = int(x) ; print(y,type(y))\n",
        "\n",
        "x = 2.5; print(x, type(x), end=\" >>> \")\n",
        "y = float(x) ; print(y,type(y))\n",
        "\n",
        "x = True; print(x, type(x), end=\" >>> \")\n",
        "y = str(x) ; print(y,type(y))"
      ],
      "metadata": {
        "colab": {
          "base_uri": "https://localhost:8080/"
        },
        "id": "OW-BDV5mJQsN",
        "outputId": "037ede56-3fe0-4ea0-d348-724527e2abfe"
      },
      "execution_count": null,
      "outputs": [
        {
          "output_type": "stream",
          "name": "stdout",
          "text": [
            "2.5 <class 'float'> >>> 2 <class 'int'>\n",
            "1 <class 'int'> >>> True <class 'bool'>\n",
            "124 <class 'str'> >>> 124 <class 'int'>\n",
            "2.5 <class 'float'> >>> 2.5 <class 'float'>\n",
            "True <class 'bool'> >>> True <class 'str'>\n"
          ]
        }
      ]
    },
    {
      "cell_type": "markdown",
      "source": [
        "# Macam-macam Operasi Pada Python"
      ],
      "metadata": {
        "id": "BJZeR3rZCKG8"
      }
    },
    {
      "cell_type": "markdown",
      "source": [
        "**Operasi Hitung**"
      ],
      "metadata": {
        "id": "ANKsyPW0Dz2E"
      }
    },
    {
      "cell_type": "code",
      "source": [
        "x = 5\n",
        "y = 2"
      ],
      "metadata": {
        "id": "M0lld1YcEEC3"
      },
      "execution_count": null,
      "outputs": []
    },
    {
      "cell_type": "code",
      "source": [
        "print('x + y =', x+y) # Addition\n",
        "print('x - y =', x-y) # Subtraction\n",
        "print('x * y =', x*y) # Multiplication\n",
        "print('x / y =', x/y) # Division\n",
        "print('x // y =', x//y) # Floor Division\n",
        "print('x ** y =', x**y) # Exponent"
      ],
      "metadata": {
        "id": "musINXm7EHjI",
        "colab": {
          "base_uri": "https://localhost:8080/"
        },
        "outputId": "4b853ffa-28c1-4bb7-a70e-32803c2fcbff"
      },
      "execution_count": null,
      "outputs": [
        {
          "output_type": "stream",
          "name": "stdout",
          "text": [
            "x + y = 7\n",
            "x - y = 3\n",
            "x * y = 10\n",
            "x / y = 2.5\n",
            "x // y = 2\n",
            "x ** y = 25\n"
          ]
        }
      ]
    },
    {
      "cell_type": "markdown",
      "source": [
        "**Operasi Perbandingan**"
      ],
      "metadata": {
        "id": "kmxywEhnESLz"
      }
    },
    {
      "cell_type": "code",
      "source": [
        "x = 5\n",
        "y = 3"
      ],
      "metadata": {
        "id": "YCoZDu9-EbJ_"
      },
      "execution_count": null,
      "outputs": []
    },
    {
      "cell_type": "code",
      "source": [
        "print('x > y =', x>y) # Greater than\n",
        "print('x < y =', x<y) # Less than\n",
        "print('x == y =', x==y) # Equal to\n",
        "print('x != y =', x!=y) # Not equal to\n",
        "print('x >= y =', x>=y) # Greater than or equal to\n",
        "print('x <= y =', x<=y) # Less than or equal to"
      ],
      "metadata": {
        "colab": {
          "base_uri": "https://localhost:8080/"
        },
        "id": "-79X3moQEhgq",
        "outputId": "5fe1df16-4d74-4ad3-dcad-9bd6a3a4044f"
      },
      "execution_count": null,
      "outputs": [
        {
          "output_type": "stream",
          "name": "stdout",
          "text": [
            "x > y = True\n",
            "x < y = False\n",
            "x == y = False\n",
            "x != y = True\n",
            "x >= y = True\n",
            "x <= y = False\n"
          ]
        }
      ]
    },
    {
      "cell_type": "markdown",
      "source": [
        "**Operasi Logika**"
      ],
      "metadata": {
        "id": "iSrXGEyPFUac"
      }
    },
    {
      "cell_type": "code",
      "source": [
        "x = True\n",
        "y = False"
      ],
      "metadata": {
        "id": "Z_RzUYd0FY4r"
      },
      "execution_count": null,
      "outputs": []
    },
    {
      "cell_type": "code",
      "source": [
        "print('x and y is', x and y) # AND logic\n",
        "\n",
        "print('x or y is', x or y) # OR logic\n",
        "\n",
        "print('not x is', not x) # NOT logic\n",
        "\n",
        "print('not y is', not y) # NOT logic"
      ],
      "metadata": {
        "colab": {
          "base_uri": "https://localhost:8080/"
        },
        "id": "ezqtV9htFb7s",
        "outputId": "a9856381-abd2-408f-a90e-aa6e5fac90f5"
      },
      "execution_count": null,
      "outputs": [
        {
          "output_type": "stream",
          "name": "stdout",
          "text": [
            "x and y is False\n",
            "x or y is True\n",
            "not x is False\n",
            "not y is True\n"
          ]
        }
      ]
    },
    {
      "cell_type": "markdown",
      "source": [
        "**Operasi Indentitas**"
      ],
      "metadata": {
        "id": "WHXDwRHGF7ix"
      }
    },
    {
      "cell_type": "code",
      "source": [
        "x1 = 5\n",
        "y1 = 5\n",
        "x2 = 'Hello'\n",
        "y2 = 'Hello'\n",
        "x3 = [1,2,3]\n",
        "y3 = [1,2,3]"
      ],
      "metadata": {
        "id": "IKuU6q7mGDjW"
      },
      "execution_count": null,
      "outputs": []
    },
    {
      "cell_type": "code",
      "source": [
        "print(x1 is not y1) # Identity is not same?\n",
        "\n",
        "print(x2 is y2) # Identity is same?\n",
        "\n",
        "print(x1 is y3) # Identity is same?"
      ],
      "metadata": {
        "id": "kBRMrSRYGFK_",
        "colab": {
          "base_uri": "https://localhost:8080/"
        },
        "outputId": "4223b687-9b2a-4d89-d5b6-338d30346ff4"
      },
      "execution_count": null,
      "outputs": [
        {
          "output_type": "stream",
          "name": "stdout",
          "text": [
            "False\n",
            "True\n",
            "False\n"
          ]
        }
      ]
    },
    {
      "cell_type": "markdown",
      "source": [
        "**Operasi Keanggotaan**"
      ],
      "metadata": {
        "id": "lCAEjEywGUv2"
      }
    },
    {
      "cell_type": "code",
      "source": [
        "x = 'Hello world'\n",
        "y = {1:'a', 2:'b'}"
      ],
      "metadata": {
        "id": "2QV-qIr4GZWR"
      },
      "execution_count": null,
      "outputs": []
    },
    {
      "cell_type": "code",
      "source": [
        "print('H' in x) # Is member?\n",
        "\n",
        "print('hello' not in x) # Is not member?\n",
        "\n",
        "print(1 in y) # Is member?\n",
        "\n",
        "print('a' in y) # is member?"
      ],
      "metadata": {
        "id": "LwQkaUEzGc7M",
        "colab": {
          "base_uri": "https://localhost:8080/"
        },
        "outputId": "689f40e7-6086-444f-bb02-534f1f341172"
      },
      "execution_count": null,
      "outputs": [
        {
          "output_type": "stream",
          "name": "stdout",
          "text": [
            "True\n",
            "True\n",
            "True\n",
            "False\n"
          ]
        }
      ]
    },
    {
      "cell_type": "markdown",
      "source": [
        "**Fungsi Masukan Pada Python**"
      ],
      "metadata": {
        "id": "l5wU4lLYGkrO"
      }
    },
    {
      "cell_type": "code",
      "source": [
        "# Taking input from the user\n",
        "name = input(\"Enter your name: \")\n",
        "\n",
        "# Output\n",
        "print(\"Hello\", name)"
      ],
      "metadata": {
        "colab": {
          "base_uri": "https://localhost:8080/"
        },
        "id": "EMz6lKswG1sq",
        "outputId": "353083d5-a892-4c66-e221-624035360151"
      },
      "execution_count": null,
      "outputs": [
        {
          "output_type": "stream",
          "name": "stdout",
          "text": [
            "Enter your name: Teguh Aji Pamungkas\n",
            "Hello Teguh Aji Pamungkas\n"
          ]
        }
      ]
    }
  ]
}